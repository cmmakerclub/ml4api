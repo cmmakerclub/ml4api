{
 "cells": [
  {
   "cell_type": "code",
   "execution_count": 16,
   "metadata": {},
   "outputs": [],
   "source": [
    "import picamera\n",
    "import picamera.array"
   ]
  },
  {
   "cell_type": "code",
   "execution_count": 17,
   "metadata": {},
   "outputs": [],
   "source": [
    "import cv2"
   ]
  },
  {
   "cell_type": "code",
   "execution_count": 18,
   "metadata": {},
   "outputs": [
    {
     "data": {
      "application/vnd.jupyter.widget-view+json": {
       "model_id": "4cf79fe9414f440997d747bb31780ce6",
       "version_major": 2,
       "version_minor": 0
      },
      "text/plain": [
       "Image(value=b'', height='224', width='224')"
      ]
     },
     "metadata": {},
     "output_type": "display_data"
    }
   ],
   "source": [
    "import traitlets\n",
    "import ipywidgets.widgets as widgets\n",
    "from IPython.display import display\n",
    "import os\n",
    "\n",
    "image_widget = widgets.Image(width=224, height=224)\n",
    "display(image_widget)"
   ]
  },
  {
   "cell_type": "code",
   "execution_count": 19,
   "metadata": {},
   "outputs": [],
   "source": [
    "class0 = 'dataset/0'\n",
    "class1 = 'dataset/1'"
   ]
  },
  {
   "cell_type": "code",
   "execution_count": 20,
   "metadata": {},
   "outputs": [
    {
     "name": "stdout",
     "output_type": "stream",
     "text": [
      "dataset\n",
      "dataset/1\n",
      "dataset/1/.ipynb_checkpoints\n",
      "dataset/0\n",
      "dataset/0/.ipynb_checkpoints\n",
      "dataset/0/.ipynb_checkpoints/1574683084.4689193-checkpoint.jpg\n",
      "dataset/0/.ipynb_checkpoints/1574683087.611756-checkpoint.jpg\n",
      "dataset/0/.ipynb_checkpoints/1574683085.89735-checkpoint.jpg\n"
     ]
    }
   ],
   "source": [
    "!find dataset"
   ]
  },
  {
   "cell_type": "code",
   "execution_count": 21,
   "metadata": {},
   "outputs": [
    {
     "name": "stdout",
     "output_type": "stream",
     "text": [
      "Directories not created becasue they already exist\n"
     ]
    }
   ],
   "source": [
    "# we have this \"try/except\" statement because these next functions can throw an error if the directories exist already\n",
    "try:\n",
    "    os.makedirs(class0)\n",
    "    os.makedirs(class1)\n",
    "except FileExistsError:\n",
    "    print('Directories not created becasue they already exist')"
   ]
  },
  {
   "cell_type": "code",
   "execution_count": 22,
   "metadata": {},
   "outputs": [
    {
     "data": {
      "application/vnd.jupyter.widget-view+json": {
       "model_id": "66d44031f9cd4884ac6df7fd90536eb6",
       "version_major": 2,
       "version_minor": 0
      },
      "text/plain": [
       "HBox(children=(IntText(value=1, layout=Layout(height='28px', width='128px')), Button(button_style='success', d…"
      ]
     },
     "metadata": {},
     "output_type": "display_data"
    },
    {
     "data": {
      "application/vnd.jupyter.widget-view+json": {
       "model_id": "944164948948478da525e4676ab2f199",
       "version_major": 2,
       "version_minor": 0
      },
      "text/plain": [
       "HBox(children=(IntText(value=1, layout=Layout(height='28px', width='128px')), Button(button_style='danger', de…"
      ]
     },
     "metadata": {},
     "output_type": "display_data"
    }
   ],
   "source": [
    "button_layout = widgets.Layout(width='128px', height='28px')\n",
    "free_button = widgets.Button(description='CLASS 0', button_style='success', layout=button_layout)\n",
    "blocked_button = widgets.Button(description='CLASS 1', button_style='danger', layout=button_layout)\n",
    "\n",
    "\n",
    "free_count = widgets.IntText(layout=button_layout, value=len(os.listdir(class0)))\n",
    "blocked_count = widgets.IntText(layout=button_layout, value=len(os.listdir(class1)))\n",
    "\n",
    "display(widgets.HBox([free_count, free_button]))\n",
    "display(widgets.HBox([blocked_count, blocked_button]))\n",
    "\n",
    "class_widgets = [free_count, blocked_count]"
   ]
  },
  {
   "cell_type": "code",
   "execution_count": 23,
   "metadata": {},
   "outputs": [],
   "source": [
    "from uuid import uuid1\n",
    "import time\n",
    "\n",
    "def add(cls):\n",
    "    global class_widgets\n",
    "    with picamera.PiCamera() as camera:\n",
    "        with picamera.array.PiRGBArray(camera) as output:\n",
    "            camera.capture(output, 'rgb')\n",
    "            print('Captured %dx%d image' % (output.array.shape[1], output.array.shape[0]))\n",
    "            frame = output.array\n",
    "            cv2.imwrite(\"dataset/{0}/{1}.jpg\".format(str(cls), time.time()), frame)\n",
    "#             time.sleep(0.2)\n",
    "\n",
    "    print(class_widgets[int(cls)])\n",
    "    print(\"dataset/{}/\".format(cls))\n",
    "    w = class_widgets[int(cls)]\n",
    "    w.value = len(os.listdir(\"dataset/{}\".format(cls)))    \n",
    "\n",
    "# attach the callbacks, we use a 'lambda' function to ignore the\n",
    "# parameter that the on_click event would provide to our function\n",
    "# because we don't need it.\n",
    "free_button.on_click(lambda x: add(0))\n",
    "blocked_button.on_click(lambda x: add(1))\n"
   ]
  },
  {
   "cell_type": "code",
   "execution_count": 24,
   "metadata": {},
   "outputs": [
    {
     "data": {
      "application/vnd.jupyter.widget-view+json": {
       "model_id": "4cf79fe9414f440997d747bb31780ce6",
       "version_major": 2,
       "version_minor": 0
      },
      "text/plain": [
       "Image(value=b'', height='224', width='224')"
      ]
     },
     "metadata": {},
     "output_type": "display_data"
    }
   ],
   "source": [
    "display(image_widget)"
   ]
  },
  {
   "cell_type": "code",
   "execution_count": 25,
   "metadata": {},
   "outputs": [],
   "source": [
    "def bgr8_to_jpeg(value, quality=75):\n",
    "    return bytes(cv2.imencode('.jpg', value)[1])"
   ]
  },
  {
   "cell_type": "code",
   "execution_count": null,
   "metadata": {},
   "outputs": [],
   "source": []
  },
  {
   "cell_type": "code",
   "execution_count": 26,
   "metadata": {},
   "outputs": [],
   "source": [
    "from __future__ import print_function\n",
    "from imutils.video import VideoStream\n",
    "from imutils.video import FPS\n",
    "from picamera.array import PiRGBArray\n",
    "from picamera import PiCamera\n",
    "import argparse\n",
    "import imutils\n",
    "import time\n",
    "import cv2"
   ]
  },
  {
   "cell_type": "code",
   "execution_count": 27,
   "metadata": {},
   "outputs": [],
   "source": [
    "from imutils.video import VideoStream\n",
    "from imutils.video import FPS"
   ]
  },
  {
   "cell_type": "code",
   "execution_count": 28,
   "metadata": {},
   "outputs": [],
   "source": [
    "# # initialize the camera and stream\n",
    "# camera = PiCamera()\n",
    "# camera.resolution = (320, 240)\n",
    "# camera.framerate = 32\n",
    "# rawCapture = PiRGBArray(camera, size=(320, 240))\n",
    "# stream = camera.capture_continuous(rawCapture, format=\"bgr\", use_video_port=True)\n",
    "\n",
    "# for (i, f) in enumerate(stream):\n",
    "#     print(\"look\")\n",
    "# # grab the frame from the stream and resize it to have a maximum\n",
    "# # width of 400 pixels\n",
    "#     frame = f.array\n",
    "#     image_widget.value =  bgr8_to_jpeg(frame)   \n",
    "# #     rawCapture.truncate(0)\n",
    "#     print(\"OK\")\n",
    "# #     frame = imutils.resize(frame, width=400)"
   ]
  },
  {
   "cell_type": "code",
   "execution_count": null,
   "metadata": {},
   "outputs": [],
   "source": []
  },
  {
   "cell_type": "code",
   "execution_count": 29,
   "metadata": {},
   "outputs": [],
   "source": [
    "# display(image_widget)"
   ]
  },
  {
   "cell_type": "code",
   "execution_count": 30,
   "metadata": {},
   "outputs": [],
   "source": [
    "\n",
    "# # stream = io.BytesIO()\n",
    "\n",
    "# with picamera.PiCamera() as camera:\n",
    "#     camera.resolution = (480, 320)\n",
    "#     camera.framerate = 30        \n",
    "#     camera.start_preview()\n",
    "#     with picamera.array.PiRGBArray(camera) as output:\n",
    "#         while True:        \n",
    "#             camera.capture(output, 'bgr')\n",
    "#             print('Captured %dx%d image' % (output.array.shape[1], output.array.shape[0]))\n",
    "#             frame = output.array            \n",
    "#             image_widget.value =  bgr8_to_jpeg(frame)            \n",
    "# #             print(dir(stream))\n",
    "# # #             frame = stream.array\n",
    "# # #             processed_image = prepare_frame(frame)  # prepare frame\n",
    "# # #             prediction = model.predict(processed_image)\n",
    "# # #             result = np.argmax(prediction)  # imagenet_utils.decode_predictions(prediction)\n",
    "# # #             print('predict class= %d' % result)\n",
    "#             output.truncate(0)\n"
   ]
  },
  {
   "cell_type": "code",
   "execution_count": null,
   "metadata": {},
   "outputs": [],
   "source": []
  }
 ],
 "metadata": {
  "kernelspec": {
   "display_name": "Python 3",
   "language": "python",
   "name": "python3"
  },
  "language_info": {
   "codemirror_mode": {
    "name": "ipython",
    "version": 3
   },
   "file_extension": ".py",
   "mimetype": "text/x-python",
   "name": "python",
   "nbconvert_exporter": "python",
   "pygments_lexer": "ipython3",
   "version": "3.5.3"
  }
 },
 "nbformat": 4,
 "nbformat_minor": 4
}
