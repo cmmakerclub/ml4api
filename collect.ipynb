{
 "cells": [
  {
   "cell_type": "code",
   "execution_count": 1,
   "metadata": {},
   "outputs": [],
   "source": [
    "import picamera\n",
    "import picamera.array"
   ]
  },
  {
   "cell_type": "code",
   "execution_count": 2,
   "metadata": {},
   "outputs": [],
   "source": [
    "import cv2"
   ]
  },
  {
   "cell_type": "code",
   "execution_count": 3,
   "metadata": {},
   "outputs": [],
   "source": [
    "import traitlets\n",
    "import ipywidgets.widgets as widgets\n",
    "from IPython.display import display\n",
    "import os\n",
    "\n",
    "#image = widgets.Image(format='jpeg', width=224, height=224)  # this width and height doesn't necessarily have to match the camera\n",
    "#camera_link = traitlets.dlink((camera, 'value'), (image, 'value'), transform=bgr8_to_jpeg)\n",
    "\n",
    "#display(image)"
   ]
  },
  {
   "cell_type": "code",
   "execution_count": 4,
   "metadata": {},
   "outputs": [],
   "source": [
    "class0 = 'dataset/0'\n",
    "class1 = 'dataset/1'"
   ]
  },
  {
   "cell_type": "code",
   "execution_count": 5,
   "metadata": {},
   "outputs": [
    {
     "name": "stdout",
     "output_type": "stream",
     "text": [
      "Directories not created becasue they already exist\n"
     ]
    }
   ],
   "source": [
    "# we have this \"try/except\" statement because these next functions can throw an error if the directories exist already\n",
    "try:\n",
    "    os.makedirs(class0)\n",
    "    os.makedirs(class1)\n",
    "except FileExistsError:\n",
    "    print('Directories not created becasue they already exist')"
   ]
  },
  {
   "cell_type": "code",
   "execution_count": 6,
   "metadata": {},
   "outputs": [
    {
     "data": {
      "application/vnd.jupyter.widget-view+json": {
       "model_id": "6e517e6fdc0f474e899687156d083a85",
       "version_major": 2,
       "version_minor": 0
      },
      "text/plain": [
       "HBox(children=(IntText(value=1, layout=Layout(height='28px', width='128px')), Button(button_style='success', d…"
      ]
     },
     "metadata": {},
     "output_type": "display_data"
    },
    {
     "data": {
      "application/vnd.jupyter.widget-view+json": {
       "model_id": "d74b23cd41ec4cc2a6cfc5d1890bf941",
       "version_major": 2,
       "version_minor": 0
      },
      "text/plain": [
       "HBox(children=(IntText(value=1, layout=Layout(height='28px', width='128px')), Button(button_style='danger', de…"
      ]
     },
     "metadata": {},
     "output_type": "display_data"
    }
   ],
   "source": [
    "button_layout = widgets.Layout(width='128px', height='28px')\n",
    "free_button = widgets.Button(description='CLASS 0', button_style='success', layout=button_layout)\n",
    "blocked_button = widgets.Button(description='CLASS 1', button_style='danger', layout=button_layout)\n",
    "\n",
    "\n",
    "free_count = widgets.IntText(layout=button_layout, value=len(os.listdir(class0)))\n",
    "blocked_count = widgets.IntText(layout=button_layout, value=len(os.listdir(class1)))\n",
    "\n",
    "display(widgets.HBox([free_count, free_button]))\n",
    "display(widgets.HBox([blocked_count, blocked_button]))\n",
    "\n",
    "class_widgets = [free_count, blocked_count]"
   ]
  },
  {
   "cell_type": "code",
   "execution_count": 7,
   "metadata": {},
   "outputs": [],
   "source": [
    "from uuid import uuid1\n",
    "import time\n",
    "\n",
    "def add(cls):\n",
    "    global class_widgets\n",
    "    with picamera.PiCamera() as camera:\n",
    "        with picamera.array.PiRGBArray(camera) as output:\n",
    "            camera.capture(output, 'rgb')\n",
    "            print('Captured %dx%d image' % (output.array.shape[1], output.array.shape[0]))\n",
    "            frame = output.array\n",
    "            cv2.imwrite(\"dataset/{0}/{1}.jpg\".format(str(cls), time.time()), frame)\n",
    "#             time.sleep(0.2)\n",
    "\n",
    "    print(class_widgets[int(cls)])\n",
    "    print(\"dataset/{}/\".format(cls))\n",
    "    w = class_widgets[int(cls)]\n",
    "    w.value = len(os.listdir(\"dataset/{}\".format(cls)))\n",
    "\n",
    "    \n",
    "\n",
    "# attach the callbacks, we use a 'lambda' function to ignore the\n",
    "# parameter that the on_click event would provide to our function\n",
    "# because we don't need it.\n",
    "free_button.on_click(lambda x: add(0))\n",
    "blocked_button.on_click(lambda x: add(1))\n"
   ]
  },
  {
   "cell_type": "code",
   "execution_count": null,
   "metadata": {},
   "outputs": [],
   "source": []
  }
 ],
 "metadata": {
  "kernelspec": {
   "display_name": "Python 3",
   "language": "python",
   "name": "python3"
  },
  "language_info": {
   "codemirror_mode": {
    "name": "ipython",
    "version": 3
   },
   "file_extension": ".py",
   "mimetype": "text/x-python",
   "name": "python",
   "nbconvert_exporter": "python",
   "pygments_lexer": "ipython3",
   "version": "3.5.3"
  }
 },
 "nbformat": 4,
 "nbformat_minor": 4
}
