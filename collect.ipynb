{
 "cells": [
  {
   "cell_type": "code",
   "execution_count": null,
   "metadata": {},
   "outputs": [],
   "source": [
    "import picamera\n",
    "import picamera.array"
   ]
  },
  {
   "cell_type": "code",
   "execution_count": null,
   "metadata": {},
   "outputs": [],
   "source": [
    "import cv2"
   ]
  },
  {
   "cell_type": "code",
   "execution_count": null,
   "metadata": {},
   "outputs": [],
   "source": [
    "import traitlets\n",
    "import ipywidgets.widgets as widgets\n",
    "from IPython.display import display\n",
    "import os\n",
    "\n",
    "image_widget = widgets.Image(width=224, height=224)\n",
    "# display(image_widget)"
   ]
  },
  {
   "cell_type": "code",
   "execution_count": null,
   "metadata": {},
   "outputs": [],
   "source": [
    "class0 = 'dataset/0'\n",
    "class1 = 'dataset/1'\n",
    "class2 = 'dataset/2'\n",
    "class3 = 'dataset/3'"
   ]
  },
  {
   "cell_type": "code",
   "execution_count": null,
   "metadata": {},
   "outputs": [],
   "source": [
    "!find dataset"
   ]
  },
  {
   "cell_type": "code",
   "execution_count": null,
   "metadata": {},
   "outputs": [],
   "source": [
    "# we have this \"try/except\" statement because these next functions can throw an error if the directories exist already\n",
    "try:\n",
    "    os.makedirs(class0)\n",
    "    os.makedirs(class1)\n",
    "    os.makedirs(class2)\n",
    "    os.makedirs(class3)\n",
    "except FileExistsError:\n",
    "    print('Directories not created becasue they already exist')"
   ]
  },
  {
   "cell_type": "code",
   "execution_count": null,
   "metadata": {},
   "outputs": [],
   "source": [
    "button_layout = widgets.Layout(width='128px', height='28px')\n",
    "class0_button = widgets.Button(description='CLASS 0', button_style='primary', layout=button_layout)\n",
    "class1_button = widgets.Button(description='CLASS 1', button_style='success', layout=button_layout)\n",
    "class2_button = widgets.Button(description='CLASS 2', button_style='info', layout=button_layout)\n",
    "class3_button = widgets.Button(description='CLASS 3', button_style='danger', layout=button_layout)\n",
    "\n",
    "\n",
    "class0_count = widgets.IntText(layout=button_layout, value=len(os.listdir(class0)))\n",
    "class1_count = widgets.IntText(layout=button_layout, value=len(os.listdir(class1)))\n",
    "class2_count = widgets.IntText(layout=button_layout, value=len(os.listdir(class2)))\n",
    "class3_count = widgets.IntText(layout=button_layout, value=len(os.listdir(class3)))\n",
    "\n",
    "display(widgets.HBox([class0_count, class0_button]))\n",
    "display(widgets.HBox([class1_count, class1_button]))\n",
    "display(widgets.HBox([class2_count, class2_button]))\n",
    "display(widgets.HBox([class3_count, class3_button]))\n",
    "\n",
    "class_widgets = [class0_count, class1_count, class2_count, class3_count]"
   ]
  },
  {
   "cell_type": "code",
   "execution_count": null,
   "metadata": {},
   "outputs": [],
   "source": [
    "from uuid import uuid1\n",
    "import time\n",
    "\n",
    "def add(cls):\n",
    "    global class_widgets\n",
    "    with picamera.PiCamera() as camera:\n",
    "        with picamera.array.PiRGBArray(camera) as output:\n",
    "            camera.resolution = (224, 224)\n",
    "            camera.rotation = (270)\n",
    "            camera.capture(output, 'bgr')\n",
    "            print('Captured %dx%d image' % (output.array.shape[1], output.array.shape[0]))\n",
    "            frame = output.array\n",
    "            cv2.imwrite(\"dataset/{0}/{1}.jpg\".format(str(cls), time.time()), frame)\n",
    "#             time.sleep(0.2)\n",
    "\n",
    "    print(class_widgets[int(cls)])\n",
    "    print(\"dataset/{}/\".format(cls))\n",
    "    w = class_widgets[int(cls)]\n",
    "    w.value = len(os.listdir(\"dataset/{}\".format(cls)))    \n",
    "\n",
    "# attach the callbacks, we use a 'lambda' function to ignore the\n",
    "# parameter that the on_click event would provide to our function\n",
    "# because we don't need it.\n",
    "class0_button.on_click(lambda x: add(0))\n",
    "class1_button.on_click(lambda x: add(1))\n",
    "class2_button.on_click(lambda x: add(2))\n",
    "class3_button.on_click(lambda x: add(3))\n"
   ]
  },
  {
   "cell_type": "code",
   "execution_count": null,
   "metadata": {},
   "outputs": [],
   "source": [
    "# display(image_widget)"
   ]
  },
  {
   "cell_type": "code",
   "execution_count": null,
   "metadata": {},
   "outputs": [],
   "source": [
    "def bgr8_to_jpeg(value, quality=75):\n",
    "    return bytes(cv2.imencode('.jpg', value)[1])"
   ]
  },
  {
   "cell_type": "code",
   "execution_count": null,
   "metadata": {},
   "outputs": [],
   "source": []
  },
  {
   "cell_type": "code",
   "execution_count": null,
   "metadata": {},
   "outputs": [],
   "source": [
    "# from __future__ import print_function\n",
    "# from imutils.video import VideoStream\n",
    "# from imutils.video import FPS\n",
    "# from picamera.array import PiRGBArray\n",
    "# from picamera import PiCamera\n",
    "# import argparse\n",
    "# import imutils\n",
    "# import time\n",
    "# import cv2"
   ]
  },
  {
   "cell_type": "code",
   "execution_count": null,
   "metadata": {},
   "outputs": [],
   "source": [
    "# from imutils.video import VideoStream\n",
    "# from imutils.video import FPS"
   ]
  },
  {
   "cell_type": "code",
   "execution_count": null,
   "metadata": {},
   "outputs": [],
   "source": [
    "# # initialize the camera and stream\n",
    "# camera = PiCamera()\n",
    "# camera.resolution = (320, 240)\n",
    "# camera.framerate = 32\n",
    "# rawCapture = PiRGBArray(camera, size=(320, 240))\n",
    "# stream = camera.capture_continuous(rawCapture, format=\"bgr\", use_video_port=True)\n",
    "\n",
    "# for (i, f) in enumerate(stream):\n",
    "#     print(\"look\")\n",
    "# # grab the frame from the stream and resize it to have a maximum\n",
    "# # width of 400 pixels\n",
    "#     frame = f.array\n",
    "#     image_widget.value =  bgr8_to_jpeg(frame)   \n",
    "# #     rawCapture.truncate(0)\n",
    "#     print(\"OK\")\n",
    "# #     frame = imutils.resize(frame, width=400)"
   ]
  },
  {
   "cell_type": "code",
   "execution_count": null,
   "metadata": {},
   "outputs": [],
   "source": []
  },
  {
   "cell_type": "code",
   "execution_count": null,
   "metadata": {},
   "outputs": [],
   "source": [
    "# display(image_widget)"
   ]
  },
  {
   "cell_type": "code",
   "execution_count": null,
   "metadata": {},
   "outputs": [],
   "source": [
    "\n",
    "# # stream = io.BytesIO()\n",
    "\n",
    "# with picamera.PiCamera() as camera:\n",
    "#     camera.resolution = (480, 320)\n",
    "#     camera.framerate = 30        \n",
    "#     camera.start_preview()\n",
    "#     with picamera.array.PiRGBArray(camera) as output:\n",
    "#         while True:        \n",
    "#             camera.capture(output, 'bgr')\n",
    "#             print('Captured %dx%d image' % (output.array.shape[1], output.array.shape[0]))\n",
    "#             frame = output.array            \n",
    "#             image_widget.value =  bgr8_to_jpeg(frame)            \n",
    "# #             print(dir(stream))\n",
    "# # #             frame = stream.array\n",
    "# # #             processed_image = prepare_frame(frame)  # prepare frame\n",
    "# # #             prediction = model.predict(processed_image)\n",
    "# # #             result = np.argmax(prediction)  # imagenet_utils.decode_predictions(prediction)\n",
    "# # #             print('predict class= %d' % result)\n",
    "#             output.truncate(0)\n"
   ]
  },
  {
   "cell_type": "code",
   "execution_count": null,
   "metadata": {},
   "outputs": [],
   "source": []
  }
 ],
 "metadata": {
  "kernelspec": {
   "display_name": "Python 3",
   "language": "python",
   "name": "python3"
  },
  "language_info": {
   "codemirror_mode": {
    "name": "ipython",
    "version": 3
   },
   "file_extension": ".py",
   "mimetype": "text/x-python",
   "name": "python",
   "nbconvert_exporter": "python",
   "pygments_lexer": "ipython3",
   "version": "3.5.3"
  }
 },
 "nbformat": 4,
 "nbformat_minor": 4
}
