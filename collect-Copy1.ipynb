{
 "cells": [
  {
   "cell_type": "code",
   "execution_count": 1,
   "metadata": {},
   "outputs": [],
   "source": [
    "import picamera\n",
    "import picamera.array"
   ]
  },
  {
   "cell_type": "code",
   "execution_count": 2,
   "metadata": {},
   "outputs": [],
   "source": [
    "import cv2"
   ]
  },
  {
   "cell_type": "code",
   "execution_count": 3,
   "metadata": {},
   "outputs": [
    {
     "data": {
      "application/vnd.jupyter.widget-view+json": {
       "model_id": "407a09514c3a484897be8c50b606ddc0",
       "version_major": 2,
       "version_minor": 0
      },
      "text/plain": [
       "Image(value=b'', height='224', width='224')"
      ]
     },
     "metadata": {},
     "output_type": "display_data"
    }
   ],
   "source": [
    "import traitlets\n",
    "import ipywidgets.widgets as widgets\n",
    "from IPython.display import display\n",
    "import os\n",
    "\n",
    "image_widget = widgets.Image(width=224, height=224)\n",
    "display(image_widget)"
   ]
  },
  {
   "cell_type": "code",
   "execution_count": 4,
   "metadata": {},
   "outputs": [
    {
     "data": {
      "application/vnd.jupyter.widget-view+json": {
       "model_id": "407a09514c3a484897be8c50b606ddc0",
       "version_major": 2,
       "version_minor": 0
      },
      "text/plain": [
       "Image(value=b'', height='224', width='224')"
      ]
     },
     "metadata": {},
     "output_type": "display_data"
    }
   ],
   "source": [
    "display(image_widget)"
   ]
  },
  {
   "cell_type": "code",
   "execution_count": 5,
   "metadata": {},
   "outputs": [],
   "source": [
    "def bgr8_to_jpeg(value, quality=75):\n",
    "    return bytes(cv2.imencode('.jpg', value)[1])"
   ]
  },
  {
   "cell_type": "code",
   "execution_count": 6,
   "metadata": {},
   "outputs": [],
   "source": [
    "# import io\n",
    "# import time\n",
    "# import picamera\n",
    "# import cv2\n",
    "# import numpy as np\n",
    "\n",
    "# # Create the in-memory stream\n",
    "# stream = io.BytesIO()\n",
    "# with picamera.PiCamera() as camera:\n",
    "#     camera.start_preview()\n",
    "#     camera.capture(stream, format='jpeg')\n",
    "# # Construct a numpy array from the stream\n",
    "# data = np.fromstring(stream.getvalue(), dtype=np.uint8)\n",
    "# # \"Decode\" the image from the array, preserving colour\n",
    "# image = cv2.imdecode(data, 1)\n",
    "# # OpenCV returns an array with data in BGR order. If you want RGB instead\n",
    "# # use the following...\n",
    "# image = image[:, :, ::-1]\n",
    "# image_widget.value =  bgr8_to_jpeg(image)"
   ]
  },
  {
   "cell_type": "code",
   "execution_count": 7,
   "metadata": {},
   "outputs": [],
   "source": [
    "from __future__ import print_function\n",
    "from imutils.video import VideoStream\n",
    "from imutils.video import FPS\n",
    "from picamera.array import PiRGBArray\n",
    "from picamera import PiCamera\n",
    "import argparse\n",
    "import imutils\n",
    "import time\n",
    "import cv2"
   ]
  },
  {
   "cell_type": "code",
   "execution_count": 8,
   "metadata": {},
   "outputs": [],
   "source": [
    "from imutils.video import VideoStream\n",
    "from imutils.video import FPS"
   ]
  },
  {
   "cell_type": "code",
   "execution_count": 9,
   "metadata": {},
   "outputs": [],
   "source": [
    "# initialize the camera and stream\n",
    "camera = PiCamera()\n",
    "camera.resolution = (320, 240)\n",
    "camera.framerate = 32\n",
    "camera.start_preview()\n",
    "rawCapture = PiRGBArray(camera, size=(320, 240))\n",
    "stream = camera.capture_continuous(rawCapture, format=\"bgr\",\n",
    "use_video_port=True)"
   ]
  },
  {
   "cell_type": "code",
   "execution_count": null,
   "metadata": {},
   "outputs": [],
   "source": [
    "\n",
    "for (i, f) in enumerate(stream):\n",
    "    frame = f.array\n",
    "    image_widget.value =  bgr8_to_jpeg(frame)   \n",
    "    rawCapture.truncate(0)\n",
    "#     frame = imutils.resize(frame, width=400)"
   ]
  },
  {
   "cell_type": "code",
   "execution_count": null,
   "metadata": {},
   "outputs": [],
   "source": [
    "display(image_widget)"
   ]
  },
  {
   "cell_type": "code",
   "execution_count": null,
   "metadata": {},
   "outputs": [],
   "source": [
    "\n",
    "stream = io.BytesIO()\n",
    "\n",
    "with picamera.PiCamera() as camera:\n",
    "    camera.resolution = (480, 320)\n",
    "    camera.framerate = 30        \n",
    "    camera.start_preview()\n",
    "    with picamera.array.PiRGBArray(camera) as output:\n",
    "        while True:        \n",
    "            camera.capture(output, 'bgr')\n",
    "            print('Captured %dx%d image' % (output.array.shape[1], output.array.shape[0]))\n",
    "            frame = output.array            \n",
    "            image_widget.value =  bgr8_to_jpeg(frame)            \n",
    "#             print(dir(stream))\n",
    "# #             frame = stream.array\n",
    "\n",
    "\n",
    "            \n",
    "# #             processed_image = prepare_frame(frame)  # prepare frame\n",
    "# #             prediction = model.predict(processed_image)\n",
    "# #             result = np.argmax(prediction)  # imagenet_utils.decode_predictions(prediction)\n",
    "# #             print('predict class= %d' % result)\n",
    "            output.truncate(0)\n"
   ]
  },
  {
   "cell_type": "code",
   "execution_count": null,
   "metadata": {},
   "outputs": [],
   "source": []
  }
 ],
 "metadata": {
  "kernelspec": {
   "display_name": "Python 3",
   "language": "python",
   "name": "python3"
  },
  "language_info": {
   "codemirror_mode": {
    "name": "ipython",
    "version": 3
   },
   "file_extension": ".py",
   "mimetype": "text/x-python",
   "name": "python",
   "nbconvert_exporter": "python",
   "pygments_lexer": "ipython3",
   "version": "3.5.3"
  }
 },
 "nbformat": 4,
 "nbformat_minor": 4
}
